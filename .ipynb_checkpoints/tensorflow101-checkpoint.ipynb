{
 "cells": [
  {
   "cell_type": "code",
   "execution_count": 2,
   "id": "c3a3e921-5a4a-470a-8f58-2b5fe8d93885",
   "metadata": {},
   "outputs": [
    {
     "name": "stdout",
     "output_type": "stream",
     "text": [
      "hi, jupy lab\n"
     ]
    }
   ],
   "source": [
    "print(\"hi, jupy lab\")"
   ]
  },
  {
   "cell_type": "code",
   "execution_count": 5,
   "id": "c9800958-b8af-4305-89ab-bc3b60eb4dbb",
   "metadata": {},
   "outputs": [
    {
     "name": "stdout",
     "output_type": "stream",
     "text": [
      "hello py lab\n"
     ]
    }
   ],
   "source": [
    "text = 'hello py lab office'\n",
    "print(text)"
   ]
  },
  {
   "cell_type": "code",
   "execution_count": null,
   "id": "ab3e8438-6d56-4d98-b9a4-06a6fbf83a72",
   "metadata": {},
   "outputs": [],
   "source": []
  }
 ],
 "metadata": {
  "kernelspec": {
   "display_name": "Python 3",
   "language": "python",
   "name": "python3"
  },
  "language_info": {
   "codemirror_mode": {
    "name": "ipython",
    "version": 3
   },
   "file_extension": ".py",
   "mimetype": "text/x-python",
   "name": "python",
   "nbconvert_exporter": "python",
   "pygments_lexer": "ipython3",
   "version": "3.7.10"
  }
 },
 "nbformat": 4,
 "nbformat_minor": 5
}
