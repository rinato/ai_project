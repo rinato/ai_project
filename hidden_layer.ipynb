{
  "nbformat": 4,
  "nbformat_minor": 0,
  "metadata": {
    "colab": {
      "name": "hidden_layer.ipynb",
      "provenance": [],
      "authorship_tag": "ABX9TyOa9qIy25EdXEdV0ReJ8J6C",
      "include_colab_link": true
    },
    "kernelspec": {
      "name": "python3",
      "display_name": "Python 3"
    },
    "language_info": {
      "name": "python"
    }
  },
  "cells": [
    {
      "cell_type": "markdown",
      "metadata": {
        "id": "view-in-github",
        "colab_type": "text"
      },
      "source": [
        "<a href=\"https://colab.research.google.com/github/rinato/ai_project/blob/master/hidden_layer.ipynb\" target=\"_parent\"><img src=\"https://colab.research.google.com/assets/colab-badge.svg\" alt=\"Open In Colab\"/></a>"
      ]
    },
    {
      "cell_type": "code",
      "metadata": {
        "id": "2sK8vLJW01GD"
      },
      "source": [
        "# 라이브러리 import\n",
        "\n",
        "import tensorflow as tf\n",
        "import pandas as pd"
      ],
      "execution_count": 2,
      "outputs": []
    },
    {
      "cell_type": "code",
      "metadata": {
        "colab": {
          "base_uri": "https://localhost:8080/",
          "height": 258
        },
        "id": "vBCVSiNy36IS",
        "outputId": "5445c658-b834-49ce-ed79-9e603bfa0799"
      },
      "source": [
        "# 보스톤 집값 예측\n",
        "# 데이터 준비\n",
        "파일경로 = 'https://raw.githubusercontent.com/blackdew/tensorflow1/master/csv/boston.csv'\n",
        "보스턴 = pd.read_csv(파일경로)\n",
        "print(보스턴.columns)\n",
        "보스턴.head()"
      ],
      "execution_count": 4,
      "outputs": [
        {
          "output_type": "stream",
          "text": [
            "Index(['crim', 'zn', 'indus', 'chas', 'nox', 'rm', 'age', 'dis', 'rad', 'tax',\n",
            "       'ptratio', 'b', 'lstat', 'medv'],\n",
            "      dtype='object')\n"
          ],
          "name": "stdout"
        },
        {
          "output_type": "execute_result",
          "data": {
            "text/html": [
              "<div>\n",
              "<style scoped>\n",
              "    .dataframe tbody tr th:only-of-type {\n",
              "        vertical-align: middle;\n",
              "    }\n",
              "\n",
              "    .dataframe tbody tr th {\n",
              "        vertical-align: top;\n",
              "    }\n",
              "\n",
              "    .dataframe thead th {\n",
              "        text-align: right;\n",
              "    }\n",
              "</style>\n",
              "<table border=\"1\" class=\"dataframe\">\n",
              "  <thead>\n",
              "    <tr style=\"text-align: right;\">\n",
              "      <th></th>\n",
              "      <th>crim</th>\n",
              "      <th>zn</th>\n",
              "      <th>indus</th>\n",
              "      <th>chas</th>\n",
              "      <th>nox</th>\n",
              "      <th>rm</th>\n",
              "      <th>age</th>\n",
              "      <th>dis</th>\n",
              "      <th>rad</th>\n",
              "      <th>tax</th>\n",
              "      <th>ptratio</th>\n",
              "      <th>b</th>\n",
              "      <th>lstat</th>\n",
              "      <th>medv</th>\n",
              "    </tr>\n",
              "  </thead>\n",
              "  <tbody>\n",
              "    <tr>\n",
              "      <th>0</th>\n",
              "      <td>0.00632</td>\n",
              "      <td>18.0</td>\n",
              "      <td>2.31</td>\n",
              "      <td>0</td>\n",
              "      <td>0.538</td>\n",
              "      <td>6.575</td>\n",
              "      <td>65.2</td>\n",
              "      <td>4.0900</td>\n",
              "      <td>1</td>\n",
              "      <td>296</td>\n",
              "      <td>15.3</td>\n",
              "      <td>396.90</td>\n",
              "      <td>4.98</td>\n",
              "      <td>24.0</td>\n",
              "    </tr>\n",
              "    <tr>\n",
              "      <th>1</th>\n",
              "      <td>0.02731</td>\n",
              "      <td>0.0</td>\n",
              "      <td>7.07</td>\n",
              "      <td>0</td>\n",
              "      <td>0.469</td>\n",
              "      <td>6.421</td>\n",
              "      <td>78.9</td>\n",
              "      <td>4.9671</td>\n",
              "      <td>2</td>\n",
              "      <td>242</td>\n",
              "      <td>17.8</td>\n",
              "      <td>396.90</td>\n",
              "      <td>9.14</td>\n",
              "      <td>21.6</td>\n",
              "    </tr>\n",
              "    <tr>\n",
              "      <th>2</th>\n",
              "      <td>0.02729</td>\n",
              "      <td>0.0</td>\n",
              "      <td>7.07</td>\n",
              "      <td>0</td>\n",
              "      <td>0.469</td>\n",
              "      <td>7.185</td>\n",
              "      <td>61.1</td>\n",
              "      <td>4.9671</td>\n",
              "      <td>2</td>\n",
              "      <td>242</td>\n",
              "      <td>17.8</td>\n",
              "      <td>392.83</td>\n",
              "      <td>4.03</td>\n",
              "      <td>34.7</td>\n",
              "    </tr>\n",
              "    <tr>\n",
              "      <th>3</th>\n",
              "      <td>0.03237</td>\n",
              "      <td>0.0</td>\n",
              "      <td>2.18</td>\n",
              "      <td>0</td>\n",
              "      <td>0.458</td>\n",
              "      <td>6.998</td>\n",
              "      <td>45.8</td>\n",
              "      <td>6.0622</td>\n",
              "      <td>3</td>\n",
              "      <td>222</td>\n",
              "      <td>18.7</td>\n",
              "      <td>394.63</td>\n",
              "      <td>2.94</td>\n",
              "      <td>33.4</td>\n",
              "    </tr>\n",
              "    <tr>\n",
              "      <th>4</th>\n",
              "      <td>0.06905</td>\n",
              "      <td>0.0</td>\n",
              "      <td>2.18</td>\n",
              "      <td>0</td>\n",
              "      <td>0.458</td>\n",
              "      <td>7.147</td>\n",
              "      <td>54.2</td>\n",
              "      <td>6.0622</td>\n",
              "      <td>3</td>\n",
              "      <td>222</td>\n",
              "      <td>18.7</td>\n",
              "      <td>396.90</td>\n",
              "      <td>5.33</td>\n",
              "      <td>36.2</td>\n",
              "    </tr>\n",
              "  </tbody>\n",
              "</table>\n",
              "</div>"
            ],
            "text/plain": [
              "      crim    zn  indus  chas    nox  ...  tax  ptratio       b  lstat  medv\n",
              "0  0.00632  18.0   2.31     0  0.538  ...  296     15.3  396.90   4.98  24.0\n",
              "1  0.02731   0.0   7.07     0  0.469  ...  242     17.8  396.90   9.14  21.6\n",
              "2  0.02729   0.0   7.07     0  0.469  ...  242     17.8  392.83   4.03  34.7\n",
              "3  0.03237   0.0   2.18     0  0.458  ...  222     18.7  394.63   2.94  33.4\n",
              "4  0.06905   0.0   2.18     0  0.458  ...  222     18.7  396.90   5.33  36.2\n",
              "\n",
              "[5 rows x 14 columns]"
            ]
          },
          "metadata": {
            "tags": []
          },
          "execution_count": 4
        }
      ]
    },
    {
      "cell_type": "code",
      "metadata": {
        "colab": {
          "base_uri": "https://localhost:8080/"
        },
        "id": "KlwHF9I538t5",
        "outputId": "00c734eb-5973-4a25-cd28-99e39399c13a"
      },
      "source": [
        "# 종속변수, 독립변수\n",
        "독립 = 보스턴[['crim', 'zn', 'indus', 'chas', 'nox', 'rm', 'age', 'dis', 'rad', 'tax',\n",
        "       'ptratio', 'b', 'lstat']]\n",
        "종속 = 보스턴[['medv']]\n",
        "print(독립.shape, 종속.shape)"
      ],
      "execution_count": 5,
      "outputs": [
        {
          "output_type": "stream",
          "text": [
            "(506, 13) (506, 1)\n"
          ],
          "name": "stdout"
        }
      ]
    },
    {
      "cell_type": "code",
      "metadata": {
        "id": "eMFSDAFl3_bC"
      },
      "source": [
        "# 모델을 만듭니다.\n",
        "# hidden layer 추가\n",
        "\n",
        "X = tf.keras.layers.Input(shape=[13])\n",
        "H = tf.keras.layers.Dense(10, activation='swish')(X)\n",
        "Y = tf.keras.layers.Dense(1)(H)\n",
        "model = tf.keras.models.Model(X, Y)\n",
        "model.compile(loss='mse')"
      ],
      "execution_count": 11,
      "outputs": []
    },
    {
      "cell_type": "code",
      "metadata": {
        "colab": {
          "base_uri": "https://localhost:8080/"
        },
        "id": "Q7xInBHu4-2g",
        "outputId": "4952598b-769c-4198-fef9-bb27e473935a"
      },
      "source": [
        "model.summary()"
      ],
      "execution_count": 12,
      "outputs": [
        {
          "output_type": "stream",
          "text": [
            "Model: \"model_2\"\n",
            "_________________________________________________________________\n",
            "Layer (type)                 Output Shape              Param #   \n",
            "=================================================================\n",
            "input_3 (InputLayer)         [(None, 13)]              0         \n",
            "_________________________________________________________________\n",
            "dense_3 (Dense)              (None, 10)                140       \n",
            "_________________________________________________________________\n",
            "dense_4 (Dense)              (None, 1)                 11        \n",
            "=================================================================\n",
            "Total params: 151\n",
            "Trainable params: 151\n",
            "Non-trainable params: 0\n",
            "_________________________________________________________________\n"
          ],
          "name": "stdout"
        }
      ]
    },
    {
      "cell_type": "code",
      "metadata": {
        "colab": {
          "base_uri": "https://localhost:8080/"
        },
        "id": "RMnNb18p4BjB",
        "outputId": "4f99a0fa-581d-4f14-da66-fbd916f13eb1"
      },
      "source": [
        "# 모델을 학습합니다.\n",
        "model.fit(독립, 종속, epochs=1000, verbose=0)\n",
        "model.fit(독립, 종속, epochs=10)"
      ],
      "execution_count": 14,
      "outputs": [
        {
          "output_type": "stream",
          "text": [
            "Epoch 1/10\n",
            "16/16 [==============================] - 0s 1ms/step - loss: 18.3944\n",
            "Epoch 2/10\n",
            "16/16 [==============================] - 0s 2ms/step - loss: 17.8274\n",
            "Epoch 3/10\n",
            "16/16 [==============================] - 0s 2ms/step - loss: 17.2995\n",
            "Epoch 4/10\n",
            "16/16 [==============================] - 0s 1ms/step - loss: 17.0410\n",
            "Epoch 5/10\n",
            "16/16 [==============================] - 0s 1ms/step - loss: 18.0284\n",
            "Epoch 6/10\n",
            "16/16 [==============================] - 0s 1ms/step - loss: 17.1255\n",
            "Epoch 7/10\n",
            "16/16 [==============================] - 0s 1ms/step - loss: 17.1408\n",
            "Epoch 8/10\n",
            "16/16 [==============================] - 0s 2ms/step - loss: 17.0384\n",
            "Epoch 9/10\n",
            "16/16 [==============================] - 0s 1ms/step - loss: 18.3098\n",
            "Epoch 10/10\n",
            "16/16 [==============================] - 0s 1ms/step - loss: 17.7540\n"
          ],
          "name": "stdout"
        },
        {
          "output_type": "execute_result",
          "data": {
            "text/plain": [
              "<tensorflow.python.keras.callbacks.History at 0x7f4843fb87d0>"
            ]
          },
          "metadata": {
            "tags": []
          },
          "execution_count": 14
        }
      ]
    },
    {
      "cell_type": "code",
      "metadata": {
        "colab": {
          "base_uri": "https://localhost:8080/"
        },
        "id": "XQgjXiq65LuZ",
        "outputId": "1dee98b7-29b1-4bb8-c5d4-5bc1ea6da8a1"
      },
      "source": [
        "# 모델을 이용합니다.\n",
        "print(model.predict(독립[:5]))\n",
        "print(종속[:5])"
      ],
      "execution_count": 16,
      "outputs": [
        {
          "output_type": "stream",
          "text": [
            "[[27.315876]\n",
            " [22.954884]\n",
            " [30.648993]\n",
            " [29.240946]\n",
            " [29.477303]]\n",
            "   medv\n",
            "0  24.0\n",
            "1  21.6\n",
            "2  34.7\n",
            "3  33.4\n",
            "4  36.2\n"
          ],
          "name": "stdout"
        }
      ]
    },
    {
      "cell_type": "code",
      "metadata": {
        "colab": {
          "base_uri": "https://localhost:8080/",
          "height": 204
        },
        "id": "vzvo5eVc5Th5",
        "outputId": "c978b0dc-ef79-4883-b598-026db561e1a2"
      },
      "source": [
        "# 아이리스 품종 분류\n",
        "#1. 과거데이터를 준비.\n",
        "path = 'https://raw.githubusercontent.com/blackdew/tensorflow1/master/csv/iris.csv'\n",
        "iris = pd.read_csv(path)\n",
        "iris.head()"
      ],
      "execution_count": 18,
      "outputs": [
        {
          "output_type": "execute_result",
          "data": {
            "text/html": [
              "<div>\n",
              "<style scoped>\n",
              "    .dataframe tbody tr th:only-of-type {\n",
              "        vertical-align: middle;\n",
              "    }\n",
              "\n",
              "    .dataframe tbody tr th {\n",
              "        vertical-align: top;\n",
              "    }\n",
              "\n",
              "    .dataframe thead th {\n",
              "        text-align: right;\n",
              "    }\n",
              "</style>\n",
              "<table border=\"1\" class=\"dataframe\">\n",
              "  <thead>\n",
              "    <tr style=\"text-align: right;\">\n",
              "      <th></th>\n",
              "      <th>꽃잎길이</th>\n",
              "      <th>꽃잎폭</th>\n",
              "      <th>꽃받침길이</th>\n",
              "      <th>꽃받침폭</th>\n",
              "      <th>품종</th>\n",
              "    </tr>\n",
              "  </thead>\n",
              "  <tbody>\n",
              "    <tr>\n",
              "      <th>0</th>\n",
              "      <td>5.1</td>\n",
              "      <td>3.5</td>\n",
              "      <td>1.4</td>\n",
              "      <td>0.2</td>\n",
              "      <td>setosa</td>\n",
              "    </tr>\n",
              "    <tr>\n",
              "      <th>1</th>\n",
              "      <td>4.9</td>\n",
              "      <td>3.0</td>\n",
              "      <td>1.4</td>\n",
              "      <td>0.2</td>\n",
              "      <td>setosa</td>\n",
              "    </tr>\n",
              "    <tr>\n",
              "      <th>2</th>\n",
              "      <td>4.7</td>\n",
              "      <td>3.2</td>\n",
              "      <td>1.3</td>\n",
              "      <td>0.2</td>\n",
              "      <td>setosa</td>\n",
              "    </tr>\n",
              "    <tr>\n",
              "      <th>3</th>\n",
              "      <td>4.6</td>\n",
              "      <td>3.1</td>\n",
              "      <td>1.5</td>\n",
              "      <td>0.2</td>\n",
              "      <td>setosa</td>\n",
              "    </tr>\n",
              "    <tr>\n",
              "      <th>4</th>\n",
              "      <td>5.0</td>\n",
              "      <td>3.6</td>\n",
              "      <td>1.4</td>\n",
              "      <td>0.2</td>\n",
              "      <td>setosa</td>\n",
              "    </tr>\n",
              "  </tbody>\n",
              "</table>\n",
              "</div>"
            ],
            "text/plain": [
              "   꽃잎길이  꽃잎폭  꽃받침길이  꽃받침폭      품종\n",
              "0   5.1  3.5    1.4   0.2  setosa\n",
              "1   4.9  3.0    1.4   0.2  setosa\n",
              "2   4.7  3.2    1.3   0.2  setosa\n",
              "3   4.6  3.1    1.5   0.2  setosa\n",
              "4   5.0  3.6    1.4   0.2  setosa"
            ]
          },
          "metadata": {
            "tags": []
          },
          "execution_count": 18
        }
      ]
    },
    {
      "cell_type": "code",
      "metadata": {
        "colab": {
          "base_uri": "https://localhost:8080/"
        },
        "id": "hmzzc5p05y64",
        "outputId": "f3181f72-02c1-4224-ae1d-a2f7925039f0"
      },
      "source": [
        "encodi = pd.get_dummies(iris)\n",
        "encodi.head()\n",
        "print(encodi.columns)"
      ],
      "execution_count": 19,
      "outputs": [
        {
          "output_type": "stream",
          "text": [
            "Index(['꽃잎길이', '꽃잎폭', '꽃받침길이', '꽃받침폭', '품종_setosa', '품종_versicolor',\n",
            "       '품종_virginica'],\n",
            "      dtype='object')\n"
          ],
          "name": "stdout"
        }
      ]
    },
    {
      "cell_type": "code",
      "metadata": {
        "colab": {
          "base_uri": "https://localhost:8080/"
        },
        "id": "4HzEjduc50NQ",
        "outputId": "0a3f24f8-a5b2-4d61-caad-2d0e3a52e5a5"
      },
      "source": [
        "#독립변수, 종속변수\n",
        "Independent = encodi[['꽃잎길이', '꽃잎폭', '꽃받침길이', '꽃받침폭']]\n",
        "Dependent = encodi[['품종_setosa', '품종_versicolor', '품종_virginica']]\n",
        "print(Independent.shape, Dependent.shape)"
      ],
      "execution_count": 20,
      "outputs": [
        {
          "output_type": "stream",
          "text": [
            "(150, 4) (150, 3)\n"
          ],
          "name": "stdout"
        }
      ]
    },
    {
      "cell_type": "code",
      "metadata": {
        "id": "IwfxPrv851eA"
      },
      "source": [
        "# 2. 모델의 구조를 만듭니다.\n",
        "#  hidden layer 추가\n",
        "X = tf.keras.layers.Input(shape=[4])\n",
        "H = tf.keras.layers.Dense(8, activation=\"swish\")(X)\n",
        "H = tf.keras.layers.Dense(8, activation=\"swish\")(H)\n",
        "H = tf.keras.layers.Dense(8, activation=\"swish\")(H)\n",
        "Y = tf.keras.layers.Dense(3, activation='softmax')(H)\n",
        "model = tf.keras.models.Model(X, Y)\n",
        "model.compile(loss = 'categorical_crossentropy', metrics='accuracy')"
      ],
      "execution_count": 26,
      "outputs": []
    },
    {
      "cell_type": "code",
      "metadata": {
        "colab": {
          "base_uri": "https://localhost:8080/"
        },
        "id": "SSNidkYl7HvQ",
        "outputId": "f10270d1-7ae5-49f2-a9bc-8963d6825a0f"
      },
      "source": [
        "# 데이터로 모델을 학습합니다.(FIT)\n",
        "model.fit(Independent, Dependent, epochs=100)"
      ],
      "execution_count": 30,
      "outputs": [
        {
          "output_type": "stream",
          "text": [
            "Epoch 1/100\n",
            "5/5 [==============================] - 0s 3ms/step - loss: 0.8183 - accuracy: 0.7333\n",
            "Epoch 2/100\n",
            "5/5 [==============================] - 0s 3ms/step - loss: 0.8043 - accuracy: 0.6933\n",
            "Epoch 3/100\n",
            "5/5 [==============================] - 0s 3ms/step - loss: 0.7909 - accuracy: 0.7067\n",
            "Epoch 4/100\n",
            "5/5 [==============================] - 0s 3ms/step - loss: 0.7768 - accuracy: 0.6933\n",
            "Epoch 5/100\n",
            "5/5 [==============================] - 0s 3ms/step - loss: 0.7612 - accuracy: 0.6933\n",
            "Epoch 6/100\n",
            "5/5 [==============================] - 0s 3ms/step - loss: 0.7484 - accuracy: 0.6933\n",
            "Epoch 7/100\n",
            "5/5 [==============================] - 0s 2ms/step - loss: 0.7313 - accuracy: 0.7200\n",
            "Epoch 8/100\n",
            "5/5 [==============================] - 0s 3ms/step - loss: 0.7153 - accuracy: 0.7533\n",
            "Epoch 9/100\n",
            "5/5 [==============================] - 0s 2ms/step - loss: 0.6994 - accuracy: 0.7400\n",
            "Epoch 10/100\n",
            "5/5 [==============================] - 0s 5ms/step - loss: 0.6817 - accuracy: 0.7400\n",
            "Epoch 11/100\n",
            "5/5 [==============================] - 0s 2ms/step - loss: 0.6633 - accuracy: 0.7600\n",
            "Epoch 12/100\n",
            "5/5 [==============================] - 0s 3ms/step - loss: 0.6435 - accuracy: 0.8133\n",
            "Epoch 13/100\n",
            "5/5 [==============================] - 0s 2ms/step - loss: 0.6231 - accuracy: 0.8333\n",
            "Epoch 14/100\n",
            "5/5 [==============================] - 0s 2ms/step - loss: 0.6031 - accuracy: 0.8467\n",
            "Epoch 15/100\n",
            "5/5 [==============================] - 0s 3ms/step - loss: 0.5813 - accuracy: 0.8533\n",
            "Epoch 16/100\n",
            "5/5 [==============================] - 0s 3ms/step - loss: 0.5594 - accuracy: 0.8533\n",
            "Epoch 17/100\n",
            "5/5 [==============================] - 0s 3ms/step - loss: 0.5384 - accuracy: 0.8533\n",
            "Epoch 18/100\n",
            "5/5 [==============================] - 0s 3ms/step - loss: 0.5175 - accuracy: 0.8867\n",
            "Epoch 19/100\n",
            "5/5 [==============================] - 0s 2ms/step - loss: 0.4988 - accuracy: 0.8600\n",
            "Epoch 20/100\n",
            "5/5 [==============================] - 0s 3ms/step - loss: 0.4785 - accuracy: 0.9133\n",
            "Epoch 21/100\n",
            "5/5 [==============================] - 0s 4ms/step - loss: 0.4594 - accuracy: 0.9133\n",
            "Epoch 22/100\n",
            "5/5 [==============================] - 0s 3ms/step - loss: 0.4415 - accuracy: 0.9200\n",
            "Epoch 23/100\n",
            "5/5 [==============================] - 0s 3ms/step - loss: 0.4233 - accuracy: 0.8800\n",
            "Epoch 24/100\n",
            "5/5 [==============================] - 0s 3ms/step - loss: 0.4075 - accuracy: 0.9533\n",
            "Epoch 25/100\n",
            "5/5 [==============================] - 0s 3ms/step - loss: 0.3944 - accuracy: 0.9000\n",
            "Epoch 26/100\n",
            "5/5 [==============================] - 0s 3ms/step - loss: 0.3778 - accuracy: 0.9333\n",
            "Epoch 27/100\n",
            "5/5 [==============================] - 0s 3ms/step - loss: 0.3714 - accuracy: 0.9333\n",
            "Epoch 28/100\n",
            "5/5 [==============================] - 0s 4ms/step - loss: 0.3552 - accuracy: 0.9467\n",
            "Epoch 29/100\n",
            "5/5 [==============================] - 0s 4ms/step - loss: 0.3480 - accuracy: 0.9400\n",
            "Epoch 30/100\n",
            "5/5 [==============================] - 0s 3ms/step - loss: 0.3349 - accuracy: 0.9533\n",
            "Epoch 31/100\n",
            "5/5 [==============================] - 0s 4ms/step - loss: 0.3250 - accuracy: 0.9467\n",
            "Epoch 32/100\n",
            "5/5 [==============================] - 0s 4ms/step - loss: 0.3154 - accuracy: 0.9467\n",
            "Epoch 33/100\n",
            "5/5 [==============================] - 0s 4ms/step - loss: 0.3077 - accuracy: 0.9533\n",
            "Epoch 34/100\n",
            "5/5 [==============================] - 0s 3ms/step - loss: 0.2981 - accuracy: 0.9733\n",
            "Epoch 35/100\n",
            "5/5 [==============================] - 0s 3ms/step - loss: 0.2875 - accuracy: 0.9600\n",
            "Epoch 36/100\n",
            "5/5 [==============================] - 0s 3ms/step - loss: 0.2795 - accuracy: 0.9600\n",
            "Epoch 37/100\n",
            "5/5 [==============================] - 0s 3ms/step - loss: 0.2777 - accuracy: 0.9400\n",
            "Epoch 38/100\n",
            "5/5 [==============================] - 0s 3ms/step - loss: 0.2658 - accuracy: 0.9533\n",
            "Epoch 39/100\n",
            "5/5 [==============================] - 0s 2ms/step - loss: 0.2612 - accuracy: 0.9533\n",
            "Epoch 40/100\n",
            "5/5 [==============================] - 0s 2ms/step - loss: 0.2539 - accuracy: 0.9667\n",
            "Epoch 41/100\n",
            "5/5 [==============================] - 0s 2ms/step - loss: 0.2489 - accuracy: 0.9600\n",
            "Epoch 42/100\n",
            "5/5 [==============================] - 0s 4ms/step - loss: 0.2449 - accuracy: 0.9667\n",
            "Epoch 43/100\n",
            "5/5 [==============================] - 0s 2ms/step - loss: 0.2351 - accuracy: 0.9667\n",
            "Epoch 44/100\n",
            "5/5 [==============================] - 0s 3ms/step - loss: 0.2291 - accuracy: 0.9600\n",
            "Epoch 45/100\n",
            "5/5 [==============================] - 0s 3ms/step - loss: 0.2282 - accuracy: 0.9467\n",
            "Epoch 46/100\n",
            "5/5 [==============================] - 0s 3ms/step - loss: 0.2199 - accuracy: 0.9600\n",
            "Epoch 47/100\n",
            "5/5 [==============================] - 0s 2ms/step - loss: 0.2135 - accuracy: 0.9667\n",
            "Epoch 48/100\n",
            "5/5 [==============================] - 0s 4ms/step - loss: 0.2126 - accuracy: 0.9600\n",
            "Epoch 49/100\n",
            "5/5 [==============================] - 0s 3ms/step - loss: 0.2054 - accuracy: 0.9600\n",
            "Epoch 50/100\n",
            "5/5 [==============================] - 0s 3ms/step - loss: 0.2030 - accuracy: 0.9667\n",
            "Epoch 51/100\n",
            "5/5 [==============================] - 0s 2ms/step - loss: 0.1977 - accuracy: 0.9533\n",
            "Epoch 52/100\n",
            "5/5 [==============================] - 0s 3ms/step - loss: 0.1959 - accuracy: 0.9600\n",
            "Epoch 53/100\n",
            "5/5 [==============================] - 0s 3ms/step - loss: 0.1901 - accuracy: 0.9733\n",
            "Epoch 54/100\n",
            "5/5 [==============================] - 0s 4ms/step - loss: 0.1936 - accuracy: 0.9533\n",
            "Epoch 55/100\n",
            "5/5 [==============================] - 0s 3ms/step - loss: 0.1811 - accuracy: 0.9733\n",
            "Epoch 56/100\n",
            "5/5 [==============================] - 0s 3ms/step - loss: 0.1797 - accuracy: 0.9667\n",
            "Epoch 57/100\n",
            "5/5 [==============================] - 0s 3ms/step - loss: 0.1758 - accuracy: 0.9733\n",
            "Epoch 58/100\n",
            "5/5 [==============================] - 0s 3ms/step - loss: 0.1746 - accuracy: 0.9733\n",
            "Epoch 59/100\n",
            "5/5 [==============================] - 0s 4ms/step - loss: 0.1730 - accuracy: 0.9467\n",
            "Epoch 60/100\n",
            "5/5 [==============================] - 0s 5ms/step - loss: 0.1713 - accuracy: 0.9533\n",
            "Epoch 61/100\n",
            "5/5 [==============================] - 0s 4ms/step - loss: 0.1657 - accuracy: 0.9667\n",
            "Epoch 62/100\n",
            "5/5 [==============================] - 0s 3ms/step - loss: 0.1610 - accuracy: 0.9733\n",
            "Epoch 63/100\n",
            "5/5 [==============================] - 0s 3ms/step - loss: 0.1616 - accuracy: 0.9600\n",
            "Epoch 64/100\n",
            "5/5 [==============================] - 0s 3ms/step - loss: 0.1556 - accuracy: 0.9600\n",
            "Epoch 65/100\n",
            "5/5 [==============================] - 0s 3ms/step - loss: 0.1552 - accuracy: 0.9600\n",
            "Epoch 66/100\n",
            "5/5 [==============================] - 0s 4ms/step - loss: 0.1487 - accuracy: 0.9667\n",
            "Epoch 67/100\n",
            "5/5 [==============================] - 0s 3ms/step - loss: 0.1508 - accuracy: 0.9600\n",
            "Epoch 68/100\n",
            "5/5 [==============================] - 0s 3ms/step - loss: 0.1475 - accuracy: 0.9667\n",
            "Epoch 69/100\n",
            "5/5 [==============================] - 0s 3ms/step - loss: 0.1464 - accuracy: 0.9667\n",
            "Epoch 70/100\n",
            "5/5 [==============================] - 0s 3ms/step - loss: 0.1462 - accuracy: 0.9667\n",
            "Epoch 71/100\n",
            "5/5 [==============================] - 0s 6ms/step - loss: 0.1403 - accuracy: 0.9733\n",
            "Epoch 72/100\n",
            "5/5 [==============================] - 0s 4ms/step - loss: 0.1401 - accuracy: 0.9600\n",
            "Epoch 73/100\n",
            "5/5 [==============================] - 0s 3ms/step - loss: 0.1371 - accuracy: 0.9733\n",
            "Epoch 74/100\n",
            "5/5 [==============================] - 0s 4ms/step - loss: 0.1420 - accuracy: 0.9400\n",
            "Epoch 75/100\n",
            "5/5 [==============================] - 0s 3ms/step - loss: 0.1364 - accuracy: 0.9600\n",
            "Epoch 76/100\n",
            "5/5 [==============================] - 0s 3ms/step - loss: 0.1343 - accuracy: 0.9667\n",
            "Epoch 77/100\n",
            "5/5 [==============================] - 0s 3ms/step - loss: 0.1317 - accuracy: 0.9733\n",
            "Epoch 78/100\n",
            "5/5 [==============================] - 0s 3ms/step - loss: 0.1314 - accuracy: 0.9733\n",
            "Epoch 79/100\n",
            "5/5 [==============================] - 0s 3ms/step - loss: 0.1328 - accuracy: 0.9600\n",
            "Epoch 80/100\n",
            "5/5 [==============================] - 0s 3ms/step - loss: 0.1314 - accuracy: 0.9600\n",
            "Epoch 81/100\n",
            "5/5 [==============================] - 0s 3ms/step - loss: 0.1319 - accuracy: 0.9667\n",
            "Epoch 82/100\n",
            "5/5 [==============================] - 0s 3ms/step - loss: 0.1260 - accuracy: 0.9600\n",
            "Epoch 83/100\n",
            "5/5 [==============================] - 0s 4ms/step - loss: 0.1249 - accuracy: 0.9667\n",
            "Epoch 84/100\n",
            "5/5 [==============================] - 0s 3ms/step - loss: 0.1227 - accuracy: 0.9733\n",
            "Epoch 85/100\n",
            "5/5 [==============================] - 0s 4ms/step - loss: 0.1306 - accuracy: 0.9600\n",
            "Epoch 86/100\n",
            "5/5 [==============================] - 0s 3ms/step - loss: 0.1196 - accuracy: 0.9467\n",
            "Epoch 87/100\n",
            "5/5 [==============================] - 0s 3ms/step - loss: 0.1322 - accuracy: 0.9667\n",
            "Epoch 88/100\n",
            "5/5 [==============================] - 0s 3ms/step - loss: 0.1200 - accuracy: 0.9733\n",
            "Epoch 89/100\n",
            "5/5 [==============================] - 0s 3ms/step - loss: 0.1247 - accuracy: 0.9667\n",
            "Epoch 90/100\n",
            "5/5 [==============================] - 0s 4ms/step - loss: 0.1182 - accuracy: 0.9733\n",
            "Epoch 91/100\n",
            "5/5 [==============================] - 0s 4ms/step - loss: 0.1203 - accuracy: 0.9533\n",
            "Epoch 92/100\n",
            "5/5 [==============================] - 0s 3ms/step - loss: 0.1208 - accuracy: 0.9600\n",
            "Epoch 93/100\n",
            "5/5 [==============================] - 0s 4ms/step - loss: 0.1166 - accuracy: 0.9733\n",
            "Epoch 94/100\n",
            "5/5 [==============================] - 0s 2ms/step - loss: 0.1168 - accuracy: 0.9667\n",
            "Epoch 95/100\n",
            "5/5 [==============================] - 0s 4ms/step - loss: 0.1177 - accuracy: 0.9600\n",
            "Epoch 96/100\n",
            "5/5 [==============================] - 0s 3ms/step - loss: 0.1134 - accuracy: 0.9667\n",
            "Epoch 97/100\n",
            "5/5 [==============================] - 0s 3ms/step - loss: 0.1136 - accuracy: 0.9600\n",
            "Epoch 98/100\n",
            "5/5 [==============================] - 0s 4ms/step - loss: 0.1162 - accuracy: 0.9600\n",
            "Epoch 99/100\n",
            "5/5 [==============================] - 0s 3ms/step - loss: 0.1186 - accuracy: 0.9667\n",
            "Epoch 100/100\n",
            "5/5 [==============================] - 0s 3ms/step - loss: 0.1094 - accuracy: 0.9667\n"
          ],
          "name": "stdout"
        },
        {
          "output_type": "execute_result",
          "data": {
            "text/plain": [
              "<tensorflow.python.keras.callbacks.History at 0x7f483df2cd10>"
            ]
          },
          "metadata": {
            "tags": []
          },
          "execution_count": 30
        }
      ]
    },
    {
      "cell_type": "code",
      "metadata": {
        "colab": {
          "base_uri": "https://localhost:8080/"
        },
        "id": "UK_QOCuC7IMo",
        "outputId": "9ed61fd1-4dd8-4b75-d688-4fdf4a3c8853"
      },
      "source": [
        "# 4. 모델을 이용합니다.\n",
        "print(model.predict(Independent[0:5]))\n",
        "print(Dependent[0:5])"
      ],
      "execution_count": 31,
      "outputs": [
        {
          "output_type": "stream",
          "text": [
            "[[9.9668187e-01 3.3147514e-03 3.3811716e-06]\n",
            " [9.9605429e-01 3.9408705e-03 4.9119981e-06]\n",
            " [9.9551433e-01 4.4787270e-03 6.8793338e-06]\n",
            " [9.9415755e-01 5.8323629e-03 1.0090772e-05]\n",
            " [9.9635798e-01 3.6378966e-03 4.1279732e-06]]\n",
            "   품종_setosa  품종_versicolor  품종_virginica\n",
            "0          1              0             0\n",
            "1          1              0             0\n",
            "2          1              0             0\n",
            "3          1              0             0\n",
            "4          1              0             0\n"
          ],
          "name": "stdout"
        }
      ]
    }
  ]
}