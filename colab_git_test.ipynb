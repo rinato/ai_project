{
  "nbformat": 4,
  "nbformat_minor": 0,
  "metadata": {
    "colab": {
      "name": "colab_git_test.ipynb",
      "provenance": [],
      "authorship_tag": "ABX9TyPvFXFNhRmowpCU4y+nFzh0",
      "include_colab_link": true
    },
    "kernelspec": {
      "name": "python3",
      "display_name": "Python 3"
    },
    "language_info": {
      "name": "python"
    }
  },
  "cells": [
    {
      "cell_type": "markdown",
      "metadata": {
        "id": "view-in-github",
        "colab_type": "text"
      },
      "source": [
        "<a href=\"https://colab.research.google.com/github/rinato/ai_project/blob/master/colab_git_test.ipynb\" target=\"_parent\"><img src=\"https://colab.research.google.com/assets/colab-badge.svg\" alt=\"Open In Colab\"/></a>"
      ]
    },
    {
      "cell_type": "code",
      "metadata": {
        "id": "2X6iDo8hgdJ7"
      },
      "source": [
        "colab test"
      ],
      "execution_count": null,
      "outputs": []
    }
  ]
}
